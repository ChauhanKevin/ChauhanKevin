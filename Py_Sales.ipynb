{
 "cells": [
  {
   "cell_type": "code",
   "execution_count": 1,
   "metadata": {},
   "outputs": [
    {
     "name": "stdout",
     "output_type": "stream",
     "text": [
      "1.5.3\n",
      "1.24.4\n"
     ]
    }
   ],
   "source": [
    "import pandas as pd\n",
    "import numpy as np\n",
    "\n",
    "print(pd.__version__)\n",
    "print(np.__version__)\n"
   ]
  },
  {
   "cell_type": "code",
   "execution_count": 4,
   "metadata": {},
   "outputs": [
    {
     "name": "stdout",
     "output_type": "stream",
     "text": [
      "Collecting seaborn\n",
      "  Downloading seaborn-0.13.2-py3-none-any.whl (294 kB)\n",
      "     ---------------------------------------- 0.0/294.9 kB ? eta -:--:--\n",
      "     ------------------------- ------------ 194.6/294.9 kB 3.9 MB/s eta 0:00:01\n",
      "     ------------------------------------ - 286.7/294.9 kB 2.9 MB/s eta 0:00:01\n",
      "     -------------------------------------- 294.9/294.9 kB 2.6 MB/s eta 0:00:00\n",
      "Requirement already satisfied: pandas>=1.2 in c:\\users\\dell\\appdata\\local\\packages\\pythonsoftwarefoundation.python.3.10_qbz5n2kfra8p0\\localcache\\local-packages\\python310\\site-packages (from seaborn) (1.5.3)\n",
      "Requirement already satisfied: numpy!=1.24.0,>=1.20 in c:\\users\\dell\\appdata\\local\\packages\\pythonsoftwarefoundation.python.3.10_qbz5n2kfra8p0\\localcache\\local-packages\\python310\\site-packages (from seaborn) (1.24.4)\n",
      "Collecting matplotlib!=3.6.1,>=3.4\n",
      "  Downloading matplotlib-3.10.1-cp310-cp310-win_amd64.whl (8.1 MB)\n",
      "     ---------------------------------------- 0.0/8.1 MB ? eta -:--:--\n",
      "     - -------------------------------------- 0.3/8.1 MB 8.9 MB/s eta 0:00:01\n",
      "     -- ------------------------------------- 0.6/8.1 MB 7.5 MB/s eta 0:00:01\n",
      "     ---- ----------------------------------- 0.9/8.1 MB 7.1 MB/s eta 0:00:02\n",
      "     ----- ---------------------------------- 1.2/8.1 MB 7.4 MB/s eta 0:00:01\n",
      "     -------- ------------------------------- 1.6/8.1 MB 8.1 MB/s eta 0:00:01\n",
      "     ---------- ----------------------------- 2.2/8.1 MB 8.2 MB/s eta 0:00:01\n",
      "     ------------- -------------------------- 2.7/8.1 MB 8.5 MB/s eta 0:00:01\n",
      "     -------------- ------------------------- 3.0/8.1 MB 8.2 MB/s eta 0:00:01\n",
      "     ---------------- ----------------------- 3.4/8.1 MB 8.6 MB/s eta 0:00:01\n",
      "     ------------------ --------------------- 3.7/8.1 MB 8.4 MB/s eta 0:00:01\n",
      "     -------------------- ------------------- 4.2/8.1 MB 8.6 MB/s eta 0:00:01\n",
      "     ----------------------- ---------------- 4.7/8.1 MB 8.6 MB/s eta 0:00:01\n",
      "     ------------------------- -------------- 5.1/8.1 MB 8.5 MB/s eta 0:00:01\n",
      "     ---------------------------- ----------- 5.7/8.1 MB 9.0 MB/s eta 0:00:01\n",
      "     ---------------------------- ----------- 5.8/8.1 MB 8.8 MB/s eta 0:00:01\n",
      "     ------------------------------- -------- 6.3/8.1 MB 8.9 MB/s eta 0:00:01\n",
      "     --------------------------------- ------ 6.6/8.1 MB 8.7 MB/s eta 0:00:01\n",
      "     ----------------------------------- ---- 7.1/8.1 MB 8.8 MB/s eta 0:00:01\n",
      "     -------------------------------------- - 7.7/8.1 MB 9.0 MB/s eta 0:00:01\n",
      "     ---------------------------------------  8.0/8.1 MB 8.6 MB/s eta 0:00:01\n",
      "     ---------------------------------------- 8.1/8.1 MB 8.4 MB/s eta 0:00:00\n",
      "Requirement already satisfied: python-dateutil>=2.7 in c:\\users\\dell\\appdata\\local\\packages\\pythonsoftwarefoundation.python.3.10_qbz5n2kfra8p0\\localcache\\local-packages\\python310\\site-packages (from matplotlib!=3.6.1,>=3.4->seaborn) (2.9.0.post0)\n",
      "Requirement already satisfied: packaging>=20.0 in c:\\users\\dell\\appdata\\local\\packages\\pythonsoftwarefoundation.python.3.10_qbz5n2kfra8p0\\localcache\\local-packages\\python310\\site-packages (from matplotlib!=3.6.1,>=3.4->seaborn) (24.2)\n",
      "Collecting pyparsing>=2.3.1\n",
      "  Downloading pyparsing-3.2.3-py3-none-any.whl (111 kB)\n",
      "     ---------------------------------------- 0.0/111.1 kB ? eta -:--:--\n",
      "     ---------------------------------------- 111.1/111.1 kB ? eta 0:00:00\n",
      "Collecting kiwisolver>=1.3.1\n",
      "  Downloading kiwisolver-1.4.8-cp310-cp310-win_amd64.whl (71 kB)\n",
      "     ---------------------------------------- 0.0/71.9 kB ? eta -:--:--\n",
      "     ---------------------------------------- 71.9/71.9 kB 3.9 MB/s eta 0:00:00\n",
      "Collecting cycler>=0.10\n",
      "  Downloading cycler-0.12.1-py3-none-any.whl (8.3 kB)\n",
      "Collecting pillow>=8\n",
      "  Downloading pillow-11.2.1-cp310-cp310-win_amd64.whl (2.7 MB)\n",
      "     ---------------------------------------- 0.0/2.7 MB ? eta -:--:--\n",
      "     ----- ---------------------------------- 0.3/2.7 MB 10.2 MB/s eta 0:00:01\n",
      "     ------ --------------------------------- 0.4/2.7 MB 3.6 MB/s eta 0:00:01\n",
      "     ---------------- ----------------------- 1.1/2.7 MB 7.6 MB/s eta 0:00:01\n",
      "     --------------------- ------------------ 1.4/2.7 MB 7.6 MB/s eta 0:00:01\n",
      "     ----------------------- ---------------- 1.5/2.7 MB 6.5 MB/s eta 0:00:01\n",
      "     ---------------------------- ----------- 1.9/2.7 MB 6.7 MB/s eta 0:00:01\n",
      "     --------------------------------- ------ 2.2/2.7 MB 6.7 MB/s eta 0:00:01\n",
      "     -------------------------------------- - 2.5/2.7 MB 6.8 MB/s eta 0:00:01\n",
      "     ---------------------------------------- 2.7/2.7 MB 6.3 MB/s eta 0:00:00\n",
      "Collecting fonttools>=4.22.0\n",
      "  Downloading fonttools-4.57.0-cp310-cp310-win_amd64.whl (2.2 MB)\n",
      "     ---------------------------------------- 0.0/2.2 MB ? eta -:--:--\n",
      "     -------- ------------------------------- 0.5/2.2 MB 14.5 MB/s eta 0:00:01\n",
      "     -------------- ------------------------- 0.8/2.2 MB 12.9 MB/s eta 0:00:01\n",
      "     ------------------------ --------------- 1.3/2.2 MB 10.6 MB/s eta 0:00:01\n",
      "     ------------------------------- -------- 1.8/2.2 MB 10.2 MB/s eta 0:00:01\n",
      "     ---------------------------------- ----- 1.9/2.2 MB 8.6 MB/s eta 0:00:01\n",
      "     ---------------------------------------  2.2/2.2 MB 8.3 MB/s eta 0:00:01\n",
      "     ---------------------------------------- 2.2/2.2 MB 7.4 MB/s eta 0:00:00\n",
      "Collecting contourpy>=1.0.1\n",
      "  Downloading contourpy-1.3.1-cp310-cp310-win_amd64.whl (218 kB)\n",
      "     ---------------------------------------- 0.0/218.6 kB ? eta -:--:--\n",
      "     ------------------------------------- 218.6/218.6 kB 13.9 MB/s eta 0:00:00\n",
      "Requirement already satisfied: pytz>=2020.1 in c:\\users\\dell\\appdata\\local\\packages\\pythonsoftwarefoundation.python.3.10_qbz5n2kfra8p0\\localcache\\local-packages\\python310\\site-packages (from pandas>=1.2->seaborn) (2025.2)\n",
      "Requirement already satisfied: six>=1.5 in c:\\users\\dell\\appdata\\local\\packages\\pythonsoftwarefoundation.python.3.10_qbz5n2kfra8p0\\localcache\\local-packages\\python310\\site-packages (from python-dateutil>=2.7->matplotlib!=3.6.1,>=3.4->seaborn) (1.17.0)\n",
      "Installing collected packages: pyparsing, pillow, kiwisolver, fonttools, cycler, contourpy, matplotlib, seaborn\n",
      "Successfully installed contourpy-1.3.1 cycler-0.12.1 fonttools-4.57.0 kiwisolver-1.4.8 matplotlib-3.10.1 pillow-11.2.1 pyparsing-3.2.3 seaborn-0.13.2\n",
      "Note: you may need to restart the kernel to use updated packages.\n"
     ]
    },
    {
     "name": "stderr",
     "output_type": "stream",
     "text": [
      "WARNING: There was an error checking the latest version of pip.\n"
     ]
    }
   ],
   "source": [
    "pip install seaborn"
   ]
  },
  {
   "cell_type": "code",
   "execution_count": 5,
   "metadata": {},
   "outputs": [],
   "source": [
    "import pandas as pd\n",
    "import seaborn as sns\n",
    "import matplotlib.pyplot as plt\n",
    "\n",
    "\n"
   ]
  },
  {
   "cell_type": "code",
   "execution_count": 6,
   "metadata": {},
   "outputs": [
    {
     "data": {
      "text/html": [
       "<div>\n",
       "<style scoped>\n",
       "    .dataframe tbody tr th:only-of-type {\n",
       "        vertical-align: middle;\n",
       "    }\n",
       "\n",
       "    .dataframe tbody tr th {\n",
       "        vertical-align: top;\n",
       "    }\n",
       "\n",
       "    .dataframe thead th {\n",
       "        text-align: right;\n",
       "    }\n",
       "</style>\n",
       "<table border=\"1\" class=\"dataframe\">\n",
       "  <thead>\n",
       "    <tr style=\"text-align: right;\">\n",
       "      <th></th>\n",
       "      <th>Order ID</th>\n",
       "      <th>Region</th>\n",
       "      <th>Product</th>\n",
       "      <th>Category</th>\n",
       "      <th>Sales (£)</th>\n",
       "      <th>Quantity</th>\n",
       "      <th>Supplier</th>\n",
       "    </tr>\n",
       "  </thead>\n",
       "  <tbody>\n",
       "    <tr>\n",
       "      <th>0</th>\n",
       "      <td>1001</td>\n",
       "      <td>North</td>\n",
       "      <td>Laptop</td>\n",
       "      <td>Technology</td>\n",
       "      <td>1200</td>\n",
       "      <td>2</td>\n",
       "      <td>TechCorp</td>\n",
       "    </tr>\n",
       "    <tr>\n",
       "      <th>1</th>\n",
       "      <td>1004</td>\n",
       "      <td>West</td>\n",
       "      <td>Desk</td>\n",
       "      <td>Furniture</td>\n",
       "      <td>920</td>\n",
       "      <td>2</td>\n",
       "      <td>\\tfficeMate</td>\n",
       "    </tr>\n",
       "    <tr>\n",
       "      <th>2</th>\n",
       "      <td>1002</td>\n",
       "      <td>South</td>\n",
       "      <td>Chair</td>\n",
       "      <td>Furniture</td>\n",
       "      <td>850</td>\n",
       "      <td>5</td>\n",
       "      <td>\\tOfficeMate</td>\n",
       "    </tr>\n",
       "    <tr>\n",
       "      <th>3</th>\n",
       "      <td>1003</td>\n",
       "      <td>East</td>\n",
       "      <td>Monitor</td>\n",
       "      <td>Technology</td>\n",
       "      <td>600</td>\n",
       "      <td>3</td>\n",
       "      <td>\\tOiceMate</td>\n",
       "    </tr>\n",
       "    <tr>\n",
       "      <th>4</th>\n",
       "      <td>1006</td>\n",
       "      <td>South</td>\n",
       "      <td>Table</td>\n",
       "      <td>Furniture</td>\n",
       "      <td>500</td>\n",
       "      <td>4</td>\n",
       "      <td>TechCorp</td>\n",
       "    </tr>\n",
       "  </tbody>\n",
       "</table>\n",
       "</div>"
      ],
      "text/plain": [
       "   Order ID Region  Product    Category  Sales (£)  Quantity      Supplier\n",
       "0      1001  North   Laptop  Technology       1200         2      TechCorp\n",
       "1      1004   West     Desk   Furniture        920         2   \\tfficeMate\n",
       "2      1002  South    Chair   Furniture        850         5  \\tOfficeMate\n",
       "3      1003   East  Monitor  Technology        600         3    \\tOiceMate\n",
       "4      1006  South    Table   Furniture        500         4      TechCorp"
      ]
     },
     "execution_count": 6,
     "metadata": {},
     "output_type": "execute_result"
    }
   ],
   "source": [
    "df = pd.read_csv(\"sales.csv\")\n",
    "df.head()"
   ]
  },
  {
   "cell_type": "markdown",
   "metadata": {},
   "source": [
    "Removes spaces from column names"
   ]
  },
  {
   "cell_type": "code",
   "execution_count": 59,
   "metadata": {},
   "outputs": [],
   "source": [
    "df.columns = df.columns.str.strip().str.lower().str.replace(' ','_')"
   ]
  },
  {
   "cell_type": "code",
   "execution_count": 66,
   "metadata": {},
   "outputs": [
    {
     "data": {
      "text/html": [
       "<div>\n",
       "<style scoped>\n",
       "    .dataframe tbody tr th:only-of-type {\n",
       "        vertical-align: middle;\n",
       "    }\n",
       "\n",
       "    .dataframe tbody tr th {\n",
       "        vertical-align: top;\n",
       "    }\n",
       "\n",
       "    .dataframe thead th {\n",
       "        text-align: right;\n",
       "    }\n",
       "</style>\n",
       "<table border=\"1\" class=\"dataframe\">\n",
       "  <thead>\n",
       "    <tr style=\"text-align: right;\">\n",
       "      <th></th>\n",
       "      <th>order_id</th>\n",
       "      <th>region</th>\n",
       "      <th>product</th>\n",
       "      <th>category</th>\n",
       "      <th>sales_(£)</th>\n",
       "      <th>quantity</th>\n",
       "      <th>supplier</th>\n",
       "    </tr>\n",
       "  </thead>\n",
       "  <tbody>\n",
       "    <tr>\n",
       "      <th>0</th>\n",
       "      <td>1001</td>\n",
       "      <td>North</td>\n",
       "      <td>Laptop</td>\n",
       "      <td>Technology</td>\n",
       "      <td>1200</td>\n",
       "      <td>2</td>\n",
       "      <td>TechCorp</td>\n",
       "    </tr>\n",
       "    <tr>\n",
       "      <th>1</th>\n",
       "      <td>1004</td>\n",
       "      <td>West</td>\n",
       "      <td>Desk</td>\n",
       "      <td>Furniture</td>\n",
       "      <td>920</td>\n",
       "      <td>2</td>\n",
       "      <td>\\tfficeMate</td>\n",
       "    </tr>\n",
       "    <tr>\n",
       "      <th>2</th>\n",
       "      <td>1002</td>\n",
       "      <td>South</td>\n",
       "      <td>Chair</td>\n",
       "      <td>Furniture</td>\n",
       "      <td>850</td>\n",
       "      <td>5</td>\n",
       "      <td>\\tOfficeMate</td>\n",
       "    </tr>\n",
       "    <tr>\n",
       "      <th>3</th>\n",
       "      <td>1003</td>\n",
       "      <td>East</td>\n",
       "      <td>Monitor</td>\n",
       "      <td>Technology</td>\n",
       "      <td>600</td>\n",
       "      <td>3</td>\n",
       "      <td>\\tOiceMate</td>\n",
       "    </tr>\n",
       "    <tr>\n",
       "      <th>4</th>\n",
       "      <td>1006</td>\n",
       "      <td>South</td>\n",
       "      <td>Table</td>\n",
       "      <td>Furniture</td>\n",
       "      <td>500</td>\n",
       "      <td>4</td>\n",
       "      <td>TechCorp</td>\n",
       "    </tr>\n",
       "  </tbody>\n",
       "</table>\n",
       "</div>"
      ],
      "text/plain": [
       "   order_id region  product    category  sales_(£)  quantity      supplier\n",
       "0      1001  North   Laptop  Technology       1200         2      TechCorp\n",
       "1      1004   West     Desk   Furniture        920         2   \\tfficeMate\n",
       "2      1002  South    Chair   Furniture        850         5  \\tOfficeMate\n",
       "3      1003   East  Monitor  Technology        600         3    \\tOiceMate\n",
       "4      1006  South    Table   Furniture        500         4      TechCorp"
      ]
     },
     "execution_count": 66,
     "metadata": {},
     "output_type": "execute_result"
    }
   ],
   "source": [
    "df.head()"
   ]
  },
  {
   "cell_type": "code",
   "execution_count": 60,
   "metadata": {},
   "outputs": [
    {
     "name": "stdout",
     "output_type": "stream",
     "text": [
      "<class 'pandas.core.frame.DataFrame'>\n",
      "RangeIndex: 6 entries, 0 to 5\n",
      "Data columns (total 7 columns):\n",
      " #   Column     Non-Null Count  Dtype \n",
      "---  ------     --------------  ----- \n",
      " 0   order_id   6 non-null      int64 \n",
      " 1   region     6 non-null      object\n",
      " 2   product    6 non-null      object\n",
      " 3   category   6 non-null      object\n",
      " 4   sales_(£)  6 non-null      int64 \n",
      " 5   quantity   6 non-null      int64 \n",
      " 6   supplier   6 non-null      object\n",
      "dtypes: int64(3), object(4)\n",
      "memory usage: 464.0+ bytes\n"
     ]
    }
   ],
   "source": [
    "df.info()"
   ]
  },
  {
   "cell_type": "code",
   "execution_count": 61,
   "metadata": {},
   "outputs": [
    {
     "data": {
      "text/plain": [
       "order_id     0\n",
       "region       0\n",
       "product      0\n",
       "category     0\n",
       "sales_(£)    0\n",
       "quantity     0\n",
       "supplier     0\n",
       "dtype: int64"
      ]
     },
     "execution_count": 61,
     "metadata": {},
     "output_type": "execute_result"
    }
   ],
   "source": [
    "df.isnull().sum()"
   ]
  },
  {
   "cell_type": "code",
   "execution_count": 62,
   "metadata": {},
   "outputs": [
    {
     "data": {
      "text/html": [
       "<div>\n",
       "<style scoped>\n",
       "    .dataframe tbody tr th:only-of-type {\n",
       "        vertical-align: middle;\n",
       "    }\n",
       "\n",
       "    .dataframe tbody tr th {\n",
       "        vertical-align: top;\n",
       "    }\n",
       "\n",
       "    .dataframe thead th {\n",
       "        text-align: right;\n",
       "    }\n",
       "</style>\n",
       "<table border=\"1\" class=\"dataframe\">\n",
       "  <thead>\n",
       "    <tr style=\"text-align: right;\">\n",
       "      <th></th>\n",
       "      <th>order_id</th>\n",
       "      <th>sales_(£)</th>\n",
       "      <th>quantity</th>\n",
       "    </tr>\n",
       "  </thead>\n",
       "  <tbody>\n",
       "    <tr>\n",
       "      <th>count</th>\n",
       "      <td>6.000000</td>\n",
       "      <td>6.000000</td>\n",
       "      <td>6.000000</td>\n",
       "    </tr>\n",
       "    <tr>\n",
       "      <th>mean</th>\n",
       "      <td>1003.500000</td>\n",
       "      <td>703.333333</td>\n",
       "      <td>4.333333</td>\n",
       "    </tr>\n",
       "    <tr>\n",
       "      <th>std</th>\n",
       "      <td>1.870829</td>\n",
       "      <td>366.969572</td>\n",
       "      <td>3.011091</td>\n",
       "    </tr>\n",
       "    <tr>\n",
       "      <th>min</th>\n",
       "      <td>1001.000000</td>\n",
       "      <td>150.000000</td>\n",
       "      <td>2.000000</td>\n",
       "    </tr>\n",
       "    <tr>\n",
       "      <th>25%</th>\n",
       "      <td>1002.250000</td>\n",
       "      <td>525.000000</td>\n",
       "      <td>2.250000</td>\n",
       "    </tr>\n",
       "    <tr>\n",
       "      <th>50%</th>\n",
       "      <td>1003.500000</td>\n",
       "      <td>725.000000</td>\n",
       "      <td>3.500000</td>\n",
       "    </tr>\n",
       "    <tr>\n",
       "      <th>75%</th>\n",
       "      <td>1004.750000</td>\n",
       "      <td>902.500000</td>\n",
       "      <td>4.750000</td>\n",
       "    </tr>\n",
       "    <tr>\n",
       "      <th>max</th>\n",
       "      <td>1006.000000</td>\n",
       "      <td>1200.000000</td>\n",
       "      <td>10.000000</td>\n",
       "    </tr>\n",
       "  </tbody>\n",
       "</table>\n",
       "</div>"
      ],
      "text/plain": [
       "          order_id    sales_(£)   quantity\n",
       "count     6.000000     6.000000   6.000000\n",
       "mean   1003.500000   703.333333   4.333333\n",
       "std       1.870829   366.969572   3.011091\n",
       "min    1001.000000   150.000000   2.000000\n",
       "25%    1002.250000   525.000000   2.250000\n",
       "50%    1003.500000   725.000000   3.500000\n",
       "75%    1004.750000   902.500000   4.750000\n",
       "max    1006.000000  1200.000000  10.000000"
      ]
     },
     "execution_count": 62,
     "metadata": {},
     "output_type": "execute_result"
    }
   ],
   "source": [
    "df.describe()"
   ]
  },
  {
   "cell_type": "code",
   "execution_count": null,
   "metadata": {},
   "outputs": [
    {
     "data": {
      "text/plain": [
       "0    1200\n",
       "1     920\n",
       "2     850\n",
       "3     600\n",
       "4     500\n",
       "5     150\n",
       "Name: sales_(£), dtype: int64"
      ]
     },
     "execution_count": 64,
     "metadata": {},
     "output_type": "execute_result"
    }
   ],
   "source": [
    "df['sales_(£)']"
   ]
  },
  {
   "cell_type": "markdown",
   "metadata": {},
   "source": [
    "Filter all orders from North region"
   ]
  },
  {
   "cell_type": "code",
   "execution_count": 67,
   "metadata": {},
   "outputs": [
    {
     "data": {
      "text/html": [
       "<div>\n",
       "<style scoped>\n",
       "    .dataframe tbody tr th:only-of-type {\n",
       "        vertical-align: middle;\n",
       "    }\n",
       "\n",
       "    .dataframe tbody tr th {\n",
       "        vertical-align: top;\n",
       "    }\n",
       "\n",
       "    .dataframe thead th {\n",
       "        text-align: right;\n",
       "    }\n",
       "</style>\n",
       "<table border=\"1\" class=\"dataframe\">\n",
       "  <thead>\n",
       "    <tr style=\"text-align: right;\">\n",
       "      <th></th>\n",
       "      <th>order_id</th>\n",
       "      <th>region</th>\n",
       "      <th>product</th>\n",
       "      <th>category</th>\n",
       "      <th>sales_(£)</th>\n",
       "      <th>quantity</th>\n",
       "      <th>supplier</th>\n",
       "    </tr>\n",
       "  </thead>\n",
       "  <tbody>\n",
       "    <tr>\n",
       "      <th>0</th>\n",
       "      <td>1001</td>\n",
       "      <td>North</td>\n",
       "      <td>Laptop</td>\n",
       "      <td>Technology</td>\n",
       "      <td>1200</td>\n",
       "      <td>2</td>\n",
       "      <td>TechCorp</td>\n",
       "    </tr>\n",
       "    <tr>\n",
       "      <th>5</th>\n",
       "      <td>1005</td>\n",
       "      <td>North</td>\n",
       "      <td>Mouse</td>\n",
       "      <td>Technology</td>\n",
       "      <td>150</td>\n",
       "      <td>10</td>\n",
       "      <td>TechCrp</td>\n",
       "    </tr>\n",
       "  </tbody>\n",
       "</table>\n",
       "</div>"
      ],
      "text/plain": [
       "   order_id region product    category  sales_(£)  quantity  supplier\n",
       "0      1001  North  Laptop  Technology       1200         2  TechCorp\n",
       "5      1005  North   Mouse  Technology        150        10   TechCrp"
      ]
     },
     "execution_count": 67,
     "metadata": {},
     "output_type": "execute_result"
    }
   ],
   "source": [
    "df[df['region'] == 'North']"
   ]
  },
  {
   "cell_type": "markdown",
   "metadata": {},
   "source": [
    "Region South"
   ]
  },
  {
   "cell_type": "code",
   "execution_count": 68,
   "metadata": {},
   "outputs": [
    {
     "data": {
      "text/html": [
       "<div>\n",
       "<style scoped>\n",
       "    .dataframe tbody tr th:only-of-type {\n",
       "        vertical-align: middle;\n",
       "    }\n",
       "\n",
       "    .dataframe tbody tr th {\n",
       "        vertical-align: top;\n",
       "    }\n",
       "\n",
       "    .dataframe thead th {\n",
       "        text-align: right;\n",
       "    }\n",
       "</style>\n",
       "<table border=\"1\" class=\"dataframe\">\n",
       "  <thead>\n",
       "    <tr style=\"text-align: right;\">\n",
       "      <th></th>\n",
       "      <th>order_id</th>\n",
       "      <th>region</th>\n",
       "      <th>product</th>\n",
       "      <th>category</th>\n",
       "      <th>sales_(£)</th>\n",
       "      <th>quantity</th>\n",
       "      <th>supplier</th>\n",
       "    </tr>\n",
       "  </thead>\n",
       "  <tbody>\n",
       "    <tr>\n",
       "      <th>2</th>\n",
       "      <td>1002</td>\n",
       "      <td>South</td>\n",
       "      <td>Chair</td>\n",
       "      <td>Furniture</td>\n",
       "      <td>850</td>\n",
       "      <td>5</td>\n",
       "      <td>\\tOfficeMate</td>\n",
       "    </tr>\n",
       "    <tr>\n",
       "      <th>4</th>\n",
       "      <td>1006</td>\n",
       "      <td>South</td>\n",
       "      <td>Table</td>\n",
       "      <td>Furniture</td>\n",
       "      <td>500</td>\n",
       "      <td>4</td>\n",
       "      <td>TechCorp</td>\n",
       "    </tr>\n",
       "  </tbody>\n",
       "</table>\n",
       "</div>"
      ],
      "text/plain": [
       "   order_id region product   category  sales_(£)  quantity      supplier\n",
       "2      1002  South   Chair  Furniture        850         5  \\tOfficeMate\n",
       "4      1006  South   Table  Furniture        500         4      TechCorp"
      ]
     },
     "execution_count": 68,
     "metadata": {},
     "output_type": "execute_result"
    }
   ],
   "source": [
    "df[df['region'] == 'South']"
   ]
  },
  {
   "cell_type": "markdown",
   "metadata": {},
   "source": [
    "Group by"
   ]
  },
  {
   "cell_type": "code",
   "execution_count": 69,
   "metadata": {},
   "outputs": [
    {
     "data": {
      "text/plain": [
       "region\n",
       "East      600\n",
       "North    1350\n",
       "South    1350\n",
       "West      920\n",
       "Name: sales_(£), dtype: int64"
      ]
     },
     "execution_count": 69,
     "metadata": {},
     "output_type": "execute_result"
    }
   ],
   "source": [
    "df.groupby('region')['sales_(£)'].sum()"
   ]
  },
  {
   "cell_type": "markdown",
   "metadata": {},
   "source": [
    "Sorting Values by sales"
   ]
  },
  {
   "cell_type": "code",
   "execution_count": 71,
   "metadata": {},
   "outputs": [
    {
     "data": {
      "text/html": [
       "<div>\n",
       "<style scoped>\n",
       "    .dataframe tbody tr th:only-of-type {\n",
       "        vertical-align: middle;\n",
       "    }\n",
       "\n",
       "    .dataframe tbody tr th {\n",
       "        vertical-align: top;\n",
       "    }\n",
       "\n",
       "    .dataframe thead th {\n",
       "        text-align: right;\n",
       "    }\n",
       "</style>\n",
       "<table border=\"1\" class=\"dataframe\">\n",
       "  <thead>\n",
       "    <tr style=\"text-align: right;\">\n",
       "      <th></th>\n",
       "      <th>order_id</th>\n",
       "      <th>region</th>\n",
       "      <th>product</th>\n",
       "      <th>category</th>\n",
       "      <th>sales_(£)</th>\n",
       "      <th>quantity</th>\n",
       "      <th>supplier</th>\n",
       "    </tr>\n",
       "  </thead>\n",
       "  <tbody>\n",
       "    <tr>\n",
       "      <th>0</th>\n",
       "      <td>1001</td>\n",
       "      <td>North</td>\n",
       "      <td>Laptop</td>\n",
       "      <td>Technology</td>\n",
       "      <td>1200</td>\n",
       "      <td>2</td>\n",
       "      <td>TechCorp</td>\n",
       "    </tr>\n",
       "    <tr>\n",
       "      <th>1</th>\n",
       "      <td>1004</td>\n",
       "      <td>West</td>\n",
       "      <td>Desk</td>\n",
       "      <td>Furniture</td>\n",
       "      <td>920</td>\n",
       "      <td>2</td>\n",
       "      <td>\\tfficeMate</td>\n",
       "    </tr>\n",
       "    <tr>\n",
       "      <th>2</th>\n",
       "      <td>1002</td>\n",
       "      <td>South</td>\n",
       "      <td>Chair</td>\n",
       "      <td>Furniture</td>\n",
       "      <td>850</td>\n",
       "      <td>5</td>\n",
       "      <td>\\tOfficeMate</td>\n",
       "    </tr>\n",
       "    <tr>\n",
       "      <th>3</th>\n",
       "      <td>1003</td>\n",
       "      <td>East</td>\n",
       "      <td>Monitor</td>\n",
       "      <td>Technology</td>\n",
       "      <td>600</td>\n",
       "      <td>3</td>\n",
       "      <td>\\tOiceMate</td>\n",
       "    </tr>\n",
       "    <tr>\n",
       "      <th>4</th>\n",
       "      <td>1006</td>\n",
       "      <td>South</td>\n",
       "      <td>Table</td>\n",
       "      <td>Furniture</td>\n",
       "      <td>500</td>\n",
       "      <td>4</td>\n",
       "      <td>TechCorp</td>\n",
       "    </tr>\n",
       "    <tr>\n",
       "      <th>5</th>\n",
       "      <td>1005</td>\n",
       "      <td>North</td>\n",
       "      <td>Mouse</td>\n",
       "      <td>Technology</td>\n",
       "      <td>150</td>\n",
       "      <td>10</td>\n",
       "      <td>TechCrp</td>\n",
       "    </tr>\n",
       "  </tbody>\n",
       "</table>\n",
       "</div>"
      ],
      "text/plain": [
       "   order_id region  product    category  sales_(£)  quantity      supplier\n",
       "0      1001  North   Laptop  Technology       1200         2      TechCorp\n",
       "1      1004   West     Desk   Furniture        920         2   \\tfficeMate\n",
       "2      1002  South    Chair   Furniture        850         5  \\tOfficeMate\n",
       "3      1003   East  Monitor  Technology        600         3    \\tOiceMate\n",
       "4      1006  South    Table   Furniture        500         4      TechCorp\n",
       "5      1005  North    Mouse  Technology        150        10       TechCrp"
      ]
     },
     "execution_count": 71,
     "metadata": {},
     "output_type": "execute_result"
    }
   ],
   "source": [
    "df.sort_values(by='sales_(£)', ascending=False)"
   ]
  },
  {
   "cell_type": "markdown",
   "metadata": {},
   "source": [
    "The most sold product was the Mouse with sales of 150"
   ]
  },
  {
   "cell_type": "code",
   "execution_count": 74,
   "metadata": {},
   "outputs": [
    {
     "data": {
      "text/html": [
       "<div>\n",
       "<style scoped>\n",
       "    .dataframe tbody tr th:only-of-type {\n",
       "        vertical-align: middle;\n",
       "    }\n",
       "\n",
       "    .dataframe tbody tr th {\n",
       "        vertical-align: top;\n",
       "    }\n",
       "\n",
       "    .dataframe thead th {\n",
       "        text-align: right;\n",
       "    }\n",
       "</style>\n",
       "<table border=\"1\" class=\"dataframe\">\n",
       "  <thead>\n",
       "    <tr style=\"text-align: right;\">\n",
       "      <th></th>\n",
       "      <th>order_id</th>\n",
       "      <th>region</th>\n",
       "      <th>product</th>\n",
       "      <th>category</th>\n",
       "      <th>sales_(£)</th>\n",
       "      <th>quantity</th>\n",
       "      <th>supplier</th>\n",
       "    </tr>\n",
       "  </thead>\n",
       "  <tbody>\n",
       "    <tr>\n",
       "      <th>5</th>\n",
       "      <td>1005</td>\n",
       "      <td>North</td>\n",
       "      <td>Mouse</td>\n",
       "      <td>Technology</td>\n",
       "      <td>150</td>\n",
       "      <td>10</td>\n",
       "      <td>TechCrp</td>\n",
       "    </tr>\n",
       "    <tr>\n",
       "      <th>2</th>\n",
       "      <td>1002</td>\n",
       "      <td>South</td>\n",
       "      <td>Chair</td>\n",
       "      <td>Furniture</td>\n",
       "      <td>850</td>\n",
       "      <td>5</td>\n",
       "      <td>\\tOfficeMate</td>\n",
       "    </tr>\n",
       "    <tr>\n",
       "      <th>4</th>\n",
       "      <td>1006</td>\n",
       "      <td>South</td>\n",
       "      <td>Table</td>\n",
       "      <td>Furniture</td>\n",
       "      <td>500</td>\n",
       "      <td>4</td>\n",
       "      <td>TechCorp</td>\n",
       "    </tr>\n",
       "    <tr>\n",
       "      <th>3</th>\n",
       "      <td>1003</td>\n",
       "      <td>East</td>\n",
       "      <td>Monitor</td>\n",
       "      <td>Technology</td>\n",
       "      <td>600</td>\n",
       "      <td>3</td>\n",
       "      <td>\\tOiceMate</td>\n",
       "    </tr>\n",
       "    <tr>\n",
       "      <th>0</th>\n",
       "      <td>1001</td>\n",
       "      <td>North</td>\n",
       "      <td>Laptop</td>\n",
       "      <td>Technology</td>\n",
       "      <td>1200</td>\n",
       "      <td>2</td>\n",
       "      <td>TechCorp</td>\n",
       "    </tr>\n",
       "    <tr>\n",
       "      <th>1</th>\n",
       "      <td>1004</td>\n",
       "      <td>West</td>\n",
       "      <td>Desk</td>\n",
       "      <td>Furniture</td>\n",
       "      <td>920</td>\n",
       "      <td>2</td>\n",
       "      <td>\\tfficeMate</td>\n",
       "    </tr>\n",
       "  </tbody>\n",
       "</table>\n",
       "</div>"
      ],
      "text/plain": [
       "   order_id region  product    category  sales_(£)  quantity      supplier\n",
       "5      1005  North    Mouse  Technology        150        10       TechCrp\n",
       "2      1002  South    Chair   Furniture        850         5  \\tOfficeMate\n",
       "4      1006  South    Table   Furniture        500         4      TechCorp\n",
       "3      1003   East  Monitor  Technology        600         3    \\tOiceMate\n",
       "0      1001  North   Laptop  Technology       1200         2      TechCorp\n",
       "1      1004   West     Desk   Furniture        920         2   \\tfficeMate"
      ]
     },
     "execution_count": 74,
     "metadata": {},
     "output_type": "execute_result"
    }
   ],
   "source": [
    "df.sort_values(by= 'quantity', ascending=False)"
   ]
  },
  {
   "cell_type": "markdown",
   "metadata": {},
   "source": []
  },
  {
   "cell_type": "code",
   "execution_count": null,
   "metadata": {},
   "outputs": [],
   "source": []
  }
 ],
 "metadata": {
  "kernelspec": {
   "display_name": "Python 3",
   "language": "python",
   "name": "python3"
  },
  "language_info": {
   "codemirror_mode": {
    "name": "ipython",
    "version": 3
   },
   "file_extension": ".py",
   "mimetype": "text/x-python",
   "name": "python",
   "nbconvert_exporter": "python",
   "pygments_lexer": "ipython3",
   "version": "3.10.11"
  }
 },
 "nbformat": 4,
 "nbformat_minor": 2
}
